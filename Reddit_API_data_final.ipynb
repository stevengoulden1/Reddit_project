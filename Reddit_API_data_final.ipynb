{
 "cells": [
  {
   "cell_type": "code",
   "execution_count": 4,
   "id": "dadd778e",
   "metadata": {},
   "outputs": [],
   "source": [
    "import praw\n",
    "import pandas as pd"
   ]
  },
  {
   "cell_type": "code",
   "execution_count": 36,
   "id": "5396123e",
   "metadata": {},
   "outputs": [],
   "source": [
    "reddit = praw.Reddit()"
   ]
  },
  {
   "cell_type": "markdown",
   "id": "79d99084",
   "metadata": {},
   "source": [
    "### For ChatGPT initial save"
   ]
  },
  {
   "cell_type": "code",
   "execution_count": null,
   "id": "ed7dc643",
   "metadata": {},
   "outputs": [],
   "source": [
    "my_subreddit = 'ChatGPT'"
   ]
  },
  {
   "cell_type": "code",
   "execution_count": null,
   "id": "2575a121",
   "metadata": {},
   "outputs": [],
   "source": [
    "posts = reddit.subreddit(my_subreddit).new(limit=1000)"
   ]
  },
  {
   "cell_type": "code",
   "execution_count": null,
   "id": "992cb0e5",
   "metadata": {},
   "outputs": [],
   "source": [
    "#Here commenting out comments which we didn't use in the end but the below can also pull comments\n",
    "posts_list = []\n",
    "\n",
    "for post in posts:\n",
    "    #comments_list = []\n",
    "    #try:\n",
    "    #    comments = post.comments.list()\n",
    "     \n",
    "    #    for comment in comments[:5]:\n",
    "    #        comments_list.append(comment.body)\n",
    "    #    all_comments = ', '.join(comments_list)\n",
    "    #except:\n",
    "    #    None\n",
    "\n",
    "    posts_list.append(\n",
    "        {\n",
    "             'title': post.title,\n",
    "             'selftext': post.selftext,\n",
    "             'subreddit': post.subreddit,\n",
    "             'score' : post.score,\n",
    "             'created_utc': post,\n",
    "             'name': post.name,\n",
    "             'id': post.id,\n",
    "             'comments': all_comments\n",
    "            \n",
    "        }\n",
    "    )"
   ]
  },
  {
   "cell_type": "code",
   "execution_count": null,
   "id": "7d198051",
   "metadata": {},
   "outputs": [],
   "source": [
    "df_chatgpt_210124 = pd.DataFrame(posts_list)\n",
    "df_chatgpt_210124[:10]"
   ]
  },
  {
   "cell_type": "code",
   "execution_count": null,
   "id": "f8f3c6a6",
   "metadata": {},
   "outputs": [],
   "source": [
    "#df_chatgpt_210124.to_csv('df_chatgpt_210124_1000.csv')"
   ]
  },
  {
   "cell_type": "markdown",
   "id": "c9eecfc0",
   "metadata": {},
   "source": [
    "### For midjourney initial save"
   ]
  },
  {
   "cell_type": "code",
   "execution_count": null,
   "id": "daf24c35",
   "metadata": {},
   "outputs": [],
   "source": [
    "my_subreddit_2 = 'midjourney'"
   ]
  },
  {
   "cell_type": "code",
   "execution_count": null,
   "id": "2b5ba9ab",
   "metadata": {},
   "outputs": [],
   "source": [
    "posts_2 = reddit.subreddit(my_subreddit_2).new(limit=1000)"
   ]
  },
  {
   "cell_type": "code",
   "execution_count": null,
   "id": "5c3c3ec4",
   "metadata": {},
   "outputs": [],
   "source": [
    "posts_list_midjourney = []\n",
    "\n",
    "for post in posts_2:\n",
    "    #comments_list = []\n",
    "    #try:\n",
    "    #    comments = post.comments.list()\n",
    "    \n",
    "    #    for comment in comments[:5]:\n",
    "    #        comments_list.append(comment.body)\n",
    "    #    all_comments = ', '.join(comments_list)\n",
    "    #except:\n",
    "    #    None\n",
    "\n",
    "    print(post.title)\n",
    "    posts_list_midjourney.append(\n",
    "        {\n",
    "             'title': post.title,\n",
    "             'selftext': post.selftext,\n",
    "             'subreddit': post.subreddit,\n",
    "             'score' : post.score,\n",
    "             'created_utc': post,\n",
    "             'name': post.name,\n",
    "             'id': post.id\n",
    "             #'comments': all_comments\n",
    "            \n",
    "        }\n",
    "\n",
    "    )"
   ]
  },
  {
   "cell_type": "code",
   "execution_count": null,
   "id": "ff94f6bd",
   "metadata": {},
   "outputs": [],
   "source": [
    "df_midjourney_210124 = pd.DataFrame(posts_list_midjourney)\n",
    "df_midjourney_210124.head()"
   ]
  },
  {
   "cell_type": "code",
   "execution_count": null,
   "id": "6f61f43b",
   "metadata": {},
   "outputs": [],
   "source": [
    "#df_midjourney_210124.to_csv('df_midjourney_210124_1000.csv')"
   ]
  },
  {
   "cell_type": "markdown",
   "id": "ab22621d",
   "metadata": {},
   "source": [
    "## Pulling later posts"
   ]
  },
  {
   "cell_type": "code",
   "execution_count": 37,
   "id": "e1f5c58c",
   "metadata": {},
   "outputs": [
    {
     "data": {
      "text/plain": [
       "100"
      ]
     },
     "execution_count": 37,
     "metadata": {},
     "output_type": "execute_result"
    }
   ],
   "source": [
    "my_subreddit = 'ChatGPT'\n",
    "\n",
    "posts = reddit.subreddit(my_subreddit).new(limit=1000, params={'before': 't3_19dx8ls'})\n",
    "\n",
    "posts_list = []\n",
    "\n",
    "for post in posts:\n",
    "    posts_list.append(\n",
    "        {\n",
    "             'title': post.title,\n",
    "             'selftext': post.selftext,\n",
    "             'subreddit': post.subreddit,\n",
    "             'created_utc': post,\n",
    "             'name': post.name\n",
    "            \n",
    "        }\n",
    "    )\n",
    "    \n",
    "len(posts_list)"
   ]
  },
  {
   "cell_type": "code",
   "execution_count": 38,
   "id": "fcdb78fb",
   "metadata": {},
   "outputs": [
    {
     "data": {
      "text/html": [
       "<div>\n",
       "<style scoped>\n",
       "    .dataframe tbody tr th:only-of-type {\n",
       "        vertical-align: middle;\n",
       "    }\n",
       "\n",
       "    .dataframe tbody tr th {\n",
       "        vertical-align: top;\n",
       "    }\n",
       "\n",
       "    .dataframe thead th {\n",
       "        text-align: right;\n",
       "    }\n",
       "</style>\n",
       "<table border=\"1\" class=\"dataframe\">\n",
       "  <thead>\n",
       "    <tr style=\"text-align: right;\">\n",
       "      <th></th>\n",
       "      <th>title</th>\n",
       "      <th>selftext</th>\n",
       "      <th>subreddit</th>\n",
       "      <th>created_utc</th>\n",
       "      <th>name</th>\n",
       "    </tr>\n",
       "  </thead>\n",
       "  <tbody>\n",
       "    <tr>\n",
       "      <th>0</th>\n",
       "      <td>ChatGPT is now generating multiple answers in ...</td>\n",
       "      <td>So I asked a programming question to it and it...</td>\n",
       "      <td>ChatGPT</td>\n",
       "      <td>19ed5jn</td>\n",
       "      <td>t3_19ed5jn</td>\n",
       "    </tr>\n",
       "    <tr>\n",
       "      <th>1</th>\n",
       "      <td>Weird Notation</td>\n",
       "      <td>&amp;#x200B;\\n\\n[Does anyone know why I'm getting ...</td>\n",
       "      <td>ChatGPT</td>\n",
       "      <td>19ed4wo</td>\n",
       "      <td>t3_19ed4wo</td>\n",
       "    </tr>\n",
       "    <tr>\n",
       "      <th>2</th>\n",
       "      <td>Memory Retention with API calls</td>\n",
       "      <td>I would like to create a workflow using ChatGP...</td>\n",
       "      <td>ChatGPT</td>\n",
       "      <td>19ecyc8</td>\n",
       "      <td>t3_19ecyc8</td>\n",
       "    </tr>\n",
       "    <tr>\n",
       "      <th>3</th>\n",
       "      <td>Create Chatbot from your content</td>\n",
       "      <td>Create a Chatbot AI using your own content in ...</td>\n",
       "      <td>ChatGPT</td>\n",
       "      <td>19ecu71</td>\n",
       "      <td>t3_19ecu71</td>\n",
       "    </tr>\n",
       "    <tr>\n",
       "      <th>4</th>\n",
       "      <td>In response to “this is fine” being memorised ...</td>\n",
       "      <td></td>\n",
       "      <td>ChatGPT</td>\n",
       "      <td>19ecnoi</td>\n",
       "      <td>t3_19ecnoi</td>\n",
       "    </tr>\n",
       "  </tbody>\n",
       "</table>\n",
       "</div>"
      ],
      "text/plain": [
       "                                               title  \\\n",
       "0  ChatGPT is now generating multiple answers in ...   \n",
       "1                                     Weird Notation   \n",
       "2                    Memory Retention with API calls   \n",
       "3                   Create Chatbot from your content   \n",
       "4  In response to “this is fine” being memorised ...   \n",
       "\n",
       "                                            selftext subreddit created_utc  \\\n",
       "0  So I asked a programming question to it and it...   ChatGPT     19ed5jn   \n",
       "1  &#x200B;\\n\\n[Does anyone know why I'm getting ...   ChatGPT     19ed4wo   \n",
       "2  I would like to create a workflow using ChatGP...   ChatGPT     19ecyc8   \n",
       "3  Create a Chatbot AI using your own content in ...   ChatGPT     19ecu71   \n",
       "4                                                      ChatGPT     19ecnoi   \n",
       "\n",
       "         name  \n",
       "0  t3_19ed5jn  \n",
       "1  t3_19ed4wo  \n",
       "2  t3_19ecyc8  \n",
       "3  t3_19ecu71  \n",
       "4  t3_19ecnoi  "
      ]
     },
     "execution_count": 38,
     "metadata": {},
     "output_type": "execute_result"
    }
   ],
   "source": [
    "df_chatgpt_270124 = pd.DataFrame(posts_list)\n",
    "df_chatgpt_270124.head()"
   ]
  },
  {
   "cell_type": "code",
   "execution_count": 39,
   "id": "03f9fbbc",
   "metadata": {},
   "outputs": [
    {
     "data": {
      "text/plain": [
       "100"
      ]
     },
     "execution_count": 39,
     "metadata": {},
     "output_type": "execute_result"
    }
   ],
   "source": [
    "len(df_chatgpt_270124)"
   ]
  },
  {
   "cell_type": "code",
   "execution_count": 40,
   "id": "5963f7da",
   "metadata": {},
   "outputs": [],
   "source": [
    "df_chatgpt_270124.to_csv('df_chatgpt_270124_1000.csv')"
   ]
  },
  {
   "cell_type": "code",
   "execution_count": null,
   "id": "66b1dc05",
   "metadata": {},
   "outputs": [],
   "source": [
    "my_subreddit = 'midjourney'\n",
    "\n",
    "\n",
    "posts = reddit.subreddit(my_subreddit).new(limit=1000, params={'before': 't3_19ess7j'})\n",
    "\n",
    "posts_list = []\n",
    "\n",
    "for post in posts:\n",
    "    posts_list.append(\n",
    "        {\n",
    "             'title': post.title,\n",
    "             'selftext': post.selftext,\n",
    "             'subreddit': post.subreddit,\n",
    "             'created_utc': post,\n",
    "             'name': post.name\n",
    "            \n",
    "        }\n",
    "    )\n",
    "\n"
   ]
  },
  {
   "cell_type": "code",
   "execution_count": null,
   "id": "2a442510",
   "metadata": {},
   "outputs": [],
   "source": [
    "df_midjourney_250124 = pd.DataFrame(posts_list)\n",
    "df_midjourney_250124.head()"
   ]
  },
  {
   "cell_type": "code",
   "execution_count": null,
   "id": "d42b9a2c",
   "metadata": {},
   "outputs": [],
   "source": [
    "df_midjourney_250124.to_csv('df_midjourney_250124_1000.csv')"
   ]
  },
  {
   "cell_type": "markdown",
   "id": "b857e181",
   "metadata": {},
   "source": [
    "## Combining datasets"
   ]
  },
  {
   "cell_type": "markdown",
   "id": "bdbd0180",
   "metadata": {},
   "source": [
    "### Midjourney"
   ]
  },
  {
   "cell_type": "code",
   "execution_count": 5,
   "id": "74aab24c",
   "metadata": {},
   "outputs": [
    {
     "data": {
      "text/html": [
       "<div>\n",
       "<style scoped>\n",
       "    .dataframe tbody tr th:only-of-type {\n",
       "        vertical-align: middle;\n",
       "    }\n",
       "\n",
       "    .dataframe tbody tr th {\n",
       "        vertical-align: top;\n",
       "    }\n",
       "\n",
       "    .dataframe thead th {\n",
       "        text-align: right;\n",
       "    }\n",
       "</style>\n",
       "<table border=\"1\" class=\"dataframe\">\n",
       "  <thead>\n",
       "    <tr style=\"text-align: right;\">\n",
       "      <th></th>\n",
       "      <th>Unnamed: 0</th>\n",
       "      <th>title</th>\n",
       "      <th>selftext</th>\n",
       "      <th>subreddit</th>\n",
       "      <th>score</th>\n",
       "      <th>created_utc</th>\n",
       "      <th>name</th>\n",
       "      <th>id</th>\n",
       "      <th>comments</th>\n",
       "    </tr>\n",
       "  </thead>\n",
       "  <tbody>\n",
       "    <tr>\n",
       "      <th>0</th>\n",
       "      <td>0</td>\n",
       "      <td>Hi, could you guys tell me if this is AI gener...</td>\n",
       "      <td>NaN</td>\n",
       "      <td>midjourney</td>\n",
       "      <td>1</td>\n",
       "      <td>19c7xex</td>\n",
       "      <td>t3_19c7xex</td>\n",
       "      <td>19c7xex</td>\n",
       "      <td>NaN</td>\n",
       "    </tr>\n",
       "    <tr>\n",
       "      <th>1</th>\n",
       "      <td>1</td>\n",
       "      <td>Painting 5</td>\n",
       "      <td>painting by Ilya repin, Japanese vampire princ...</td>\n",
       "      <td>midjourney</td>\n",
       "      <td>1</td>\n",
       "      <td>19c7v3l</td>\n",
       "      <td>t3_19c7v3l</td>\n",
       "      <td>19c7v3l</td>\n",
       "      <td>NaN</td>\n",
       "    </tr>\n",
       "    <tr>\n",
       "      <th>2</th>\n",
       "      <td>2</td>\n",
       "      <td>Painting 4</td>\n",
       "      <td>\\npainting by Ilya repin oil on canvas , Malay...</td>\n",
       "      <td>midjourney</td>\n",
       "      <td>3</td>\n",
       "      <td>19c7js0</td>\n",
       "      <td>t3_19c7js0</td>\n",
       "      <td>19c7js0</td>\n",
       "      <td>NaN</td>\n",
       "    </tr>\n",
       "    <tr>\n",
       "      <th>3</th>\n",
       "      <td>3</td>\n",
       "      <td>Painting 3</td>\n",
       "      <td>\\npainting by edward hopper oil on canvas, qin...</td>\n",
       "      <td>midjourney</td>\n",
       "      <td>4</td>\n",
       "      <td>19c7j43</td>\n",
       "      <td>t3_19c7j43</td>\n",
       "      <td>19c7j43</td>\n",
       "      <td>NaN</td>\n",
       "    </tr>\n",
       "    <tr>\n",
       "      <th>4</th>\n",
       "      <td>4</td>\n",
       "      <td>BREAKING LEGOS</td>\n",
       "      <td>[DanielGindin.com](https://DanielGindin.com)</td>\n",
       "      <td>midjourney</td>\n",
       "      <td>1</td>\n",
       "      <td>19c7fbp</td>\n",
       "      <td>t3_19c7fbp</td>\n",
       "      <td>19c7fbp</td>\n",
       "      <td>NaN</td>\n",
       "    </tr>\n",
       "  </tbody>\n",
       "</table>\n",
       "</div>"
      ],
      "text/plain": [
       "   Unnamed: 0                                              title  \\\n",
       "0           0  Hi, could you guys tell me if this is AI gener...   \n",
       "1           1                                         Painting 5   \n",
       "2           2                                         Painting 4   \n",
       "3           3                                         Painting 3   \n",
       "4           4                                     BREAKING LEGOS   \n",
       "\n",
       "                                            selftext   subreddit  score  \\\n",
       "0                                                NaN  midjourney      1   \n",
       "1  painting by Ilya repin, Japanese vampire princ...  midjourney      1   \n",
       "2  \\npainting by Ilya repin oil on canvas , Malay...  midjourney      3   \n",
       "3  \\npainting by edward hopper oil on canvas, qin...  midjourney      4   \n",
       "4       [DanielGindin.com](https://DanielGindin.com)  midjourney      1   \n",
       "\n",
       "  created_utc        name       id comments  \n",
       "0     19c7xex  t3_19c7xex  19c7xex      NaN  \n",
       "1     19c7v3l  t3_19c7v3l  19c7v3l      NaN  \n",
       "2     19c7js0  t3_19c7js0  19c7js0      NaN  \n",
       "3     19c7j43  t3_19c7j43  19c7j43      NaN  \n",
       "4     19c7fbp  t3_19c7fbp  19c7fbp      NaN  "
      ]
     },
     "execution_count": 5,
     "metadata": {},
     "output_type": "execute_result"
    }
   ],
   "source": [
    "df_midjourney_210124 = pd.read_csv('df_midjourney_210124_1000.csv')\n",
    "df_midjourney_210124.head()"
   ]
  },
  {
   "cell_type": "code",
   "execution_count": 25,
   "id": "2ade5e44",
   "metadata": {},
   "outputs": [
    {
     "data": {
      "text/plain": [
       "965"
      ]
     },
     "execution_count": 25,
     "metadata": {},
     "output_type": "execute_result"
    }
   ],
   "source": [
    "len(df_midjourney_210124)"
   ]
  },
  {
   "cell_type": "code",
   "execution_count": 6,
   "id": "fd2f9521",
   "metadata": {},
   "outputs": [
    {
     "data": {
      "text/html": [
       "<div>\n",
       "<style scoped>\n",
       "    .dataframe tbody tr th:only-of-type {\n",
       "        vertical-align: middle;\n",
       "    }\n",
       "\n",
       "    .dataframe tbody tr th {\n",
       "        vertical-align: top;\n",
       "    }\n",
       "\n",
       "    .dataframe thead th {\n",
       "        text-align: right;\n",
       "    }\n",
       "</style>\n",
       "<table border=\"1\" class=\"dataframe\">\n",
       "  <thead>\n",
       "    <tr style=\"text-align: right;\">\n",
       "      <th></th>\n",
       "      <th>Unnamed: 0</th>\n",
       "      <th>title</th>\n",
       "      <th>selftext</th>\n",
       "      <th>subreddit</th>\n",
       "      <th>score</th>\n",
       "      <th>created_utc</th>\n",
       "      <th>name</th>\n",
       "      <th>id</th>\n",
       "    </tr>\n",
       "  </thead>\n",
       "  <tbody>\n",
       "    <tr>\n",
       "      <th>0</th>\n",
       "      <td>0</td>\n",
       "      <td>Making multi-panel comic pages more coherent</td>\n",
       "      <td>I’ve been playing with a prompt like \\n\\n/imag...</td>\n",
       "      <td>midjourney</td>\n",
       "      <td>2</td>\n",
       "      <td>19ess7j</td>\n",
       "      <td>t3_19ess7j</td>\n",
       "      <td>19ess7j</td>\n",
       "    </tr>\n",
       "    <tr>\n",
       "      <th>1</th>\n",
       "      <td>1</td>\n",
       "      <td>When the world goes under (part 3)</td>\n",
       "      <td>NaN</td>\n",
       "      <td>midjourney</td>\n",
       "      <td>2</td>\n",
       "      <td>19esj0c</td>\n",
       "      <td>t3_19esj0c</td>\n",
       "      <td>19esj0c</td>\n",
       "    </tr>\n",
       "    <tr>\n",
       "      <th>2</th>\n",
       "      <td>2</td>\n",
       "      <td>Hospital from a parallel reality</td>\n",
       "      <td>NaN</td>\n",
       "      <td>midjourney</td>\n",
       "      <td>2</td>\n",
       "      <td>19esflw</td>\n",
       "      <td>t3_19esflw</td>\n",
       "      <td>19esflw</td>\n",
       "    </tr>\n",
       "    <tr>\n",
       "      <th>3</th>\n",
       "      <td>3</td>\n",
       "      <td>The luxurious self-driving cars of the future ...</td>\n",
       "      <td>NaN</td>\n",
       "      <td>midjourney</td>\n",
       "      <td>26</td>\n",
       "      <td>19es1ve</td>\n",
       "      <td>t3_19es1ve</td>\n",
       "      <td>19es1ve</td>\n",
       "    </tr>\n",
       "    <tr>\n",
       "      <th>4</th>\n",
       "      <td>4</td>\n",
       "      <td>lost 80s vegas movie</td>\n",
       "      <td>NaN</td>\n",
       "      <td>midjourney</td>\n",
       "      <td>5</td>\n",
       "      <td>19es187</td>\n",
       "      <td>t3_19es187</td>\n",
       "      <td>19es187</td>\n",
       "    </tr>\n",
       "  </tbody>\n",
       "</table>\n",
       "</div>"
      ],
      "text/plain": [
       "   Unnamed: 0                                              title  \\\n",
       "0           0       Making multi-panel comic pages more coherent   \n",
       "1           1                 When the world goes under (part 3)   \n",
       "2           2                   Hospital from a parallel reality   \n",
       "3           3  The luxurious self-driving cars of the future ...   \n",
       "4           4                               lost 80s vegas movie   \n",
       "\n",
       "                                            selftext   subreddit  score  \\\n",
       "0  I’ve been playing with a prompt like \\n\\n/imag...  midjourney      2   \n",
       "1                                                NaN  midjourney      2   \n",
       "2                                                NaN  midjourney      2   \n",
       "3                                                NaN  midjourney     26   \n",
       "4                                                NaN  midjourney      5   \n",
       "\n",
       "  created_utc        name       id  \n",
       "0     19ess7j  t3_19ess7j  19ess7j  \n",
       "1     19esj0c  t3_19esj0c  19esj0c  \n",
       "2     19esflw  t3_19esflw  19esflw  \n",
       "3     19es1ve  t3_19es1ve  19es1ve  \n",
       "4     19es187  t3_19es187  19es187  "
      ]
     },
     "execution_count": 6,
     "metadata": {},
     "output_type": "execute_result"
    }
   ],
   "source": [
    "df_midjourney_240124 = pd.read_csv('df_midjourney_240124_1000.csv')\n",
    "df_midjourney_240124.head()"
   ]
  },
  {
   "cell_type": "code",
   "execution_count": 26,
   "id": "fc98549c",
   "metadata": {},
   "outputs": [
    {
     "data": {
      "text/plain": [
       "978"
      ]
     },
     "execution_count": 26,
     "metadata": {},
     "output_type": "execute_result"
    }
   ],
   "source": [
    "len(df_midjourney_240124)"
   ]
  },
  {
   "cell_type": "code",
   "execution_count": 7,
   "id": "a2bf7dce",
   "metadata": {},
   "outputs": [
    {
     "data": {
      "text/html": [
       "<div>\n",
       "<style scoped>\n",
       "    .dataframe tbody tr th:only-of-type {\n",
       "        vertical-align: middle;\n",
       "    }\n",
       "\n",
       "    .dataframe tbody tr th {\n",
       "        vertical-align: top;\n",
       "    }\n",
       "\n",
       "    .dataframe thead th {\n",
       "        text-align: right;\n",
       "    }\n",
       "</style>\n",
       "<table border=\"1\" class=\"dataframe\">\n",
       "  <thead>\n",
       "    <tr style=\"text-align: right;\">\n",
       "      <th></th>\n",
       "      <th>Unnamed: 0</th>\n",
       "      <th>title</th>\n",
       "      <th>selftext</th>\n",
       "      <th>subreddit</th>\n",
       "      <th>created_utc</th>\n",
       "      <th>name</th>\n",
       "    </tr>\n",
       "  </thead>\n",
       "  <tbody>\n",
       "    <tr>\n",
       "      <th>0</th>\n",
       "      <td>0</td>\n",
       "      <td>Midjourney new alpha web interface is great</td>\n",
       "      <td>You dont have to use discord anymore (you can ...</td>\n",
       "      <td>midjourney</td>\n",
       "      <td>19fadsz</td>\n",
       "      <td>t3_19fadsz</td>\n",
       "    </tr>\n",
       "    <tr>\n",
       "      <th>1</th>\n",
       "      <td>1</td>\n",
       "      <td>Rodeo Daddy Torn Ripped Shirt Beefy Hairy Pecs</td>\n",
       "      <td>NaN</td>\n",
       "      <td>midjourney</td>\n",
       "      <td>19fabl9</td>\n",
       "      <td>t3_19fabl9</td>\n",
       "    </tr>\n",
       "    <tr>\n",
       "      <th>2</th>\n",
       "      <td>2</td>\n",
       "      <td>Tiedup Restrained Musclebear Daddy Silverfox</td>\n",
       "      <td>NaN</td>\n",
       "      <td>midjourney</td>\n",
       "      <td>19fabar</td>\n",
       "      <td>t3_19fabar</td>\n",
       "    </tr>\n",
       "    <tr>\n",
       "      <th>3</th>\n",
       "      <td>3</td>\n",
       "      <td>Give me feedback on the Concept trailer i made...</td>\n",
       "      <td>NaN</td>\n",
       "      <td>midjourney</td>\n",
       "      <td>19fa940</td>\n",
       "      <td>t3_19fa940</td>\n",
       "    </tr>\n",
       "    <tr>\n",
       "      <th>4</th>\n",
       "      <td>4</td>\n",
       "      <td>🐠 Tailfin Thursday 🐟</td>\n",
       "      <td>NaN</td>\n",
       "      <td>midjourney</td>\n",
       "      <td>19fa46c</td>\n",
       "      <td>t3_19fa46c</td>\n",
       "    </tr>\n",
       "  </tbody>\n",
       "</table>\n",
       "</div>"
      ],
      "text/plain": [
       "   Unnamed: 0                                              title  \\\n",
       "0           0        Midjourney new alpha web interface is great   \n",
       "1           1     Rodeo Daddy Torn Ripped Shirt Beefy Hairy Pecs   \n",
       "2           2       Tiedup Restrained Musclebear Daddy Silverfox   \n",
       "3           3  Give me feedback on the Concept trailer i made...   \n",
       "4           4                               🐠 Tailfin Thursday 🐟   \n",
       "\n",
       "                                            selftext   subreddit created_utc  \\\n",
       "0  You dont have to use discord anymore (you can ...  midjourney     19fadsz   \n",
       "1                                                NaN  midjourney     19fabl9   \n",
       "2                                                NaN  midjourney     19fabar   \n",
       "3                                                NaN  midjourney     19fa940   \n",
       "4                                                NaN  midjourney     19fa46c   \n",
       "\n",
       "         name  \n",
       "0  t3_19fadsz  \n",
       "1  t3_19fabl9  \n",
       "2  t3_19fabar  \n",
       "3  t3_19fa940  \n",
       "4  t3_19fa46c  "
      ]
     },
     "execution_count": 7,
     "metadata": {},
     "output_type": "execute_result"
    }
   ],
   "source": [
    "df_midjourney_250124 = pd.read_csv('df_midjourney_250124_1000.csv')\n",
    "df_midjourney_250124.head()"
   ]
  },
  {
   "cell_type": "code",
   "execution_count": 8,
   "id": "ab5bb2c3",
   "metadata": {},
   "outputs": [],
   "source": [
    "df_midjourney_21_24 = pd.concat([df_midjourney_210124,df_midjourney_240124])"
   ]
  },
  {
   "cell_type": "code",
   "execution_count": 9,
   "id": "b970a58d",
   "metadata": {},
   "outputs": [],
   "source": [
    "df_midjourney_21_25 = pd.concat([df_midjourney_21_24,df_midjourney_250124])"
   ]
  },
  {
   "cell_type": "code",
   "execution_count": 10,
   "id": "299c2697",
   "metadata": {},
   "outputs": [
    {
     "data": {
      "text/plain": [
       "0"
      ]
     },
     "execution_count": 10,
     "metadata": {},
     "output_type": "execute_result"
    }
   ],
   "source": [
    "df_midjourney_21_25.duplicated().sum()"
   ]
  },
  {
   "cell_type": "code",
   "execution_count": 11,
   "id": "811ed881",
   "metadata": {},
   "outputs": [],
   "source": [
    "df_midjourney_21_25.drop_duplicates(inplace=True)"
   ]
  },
  {
   "cell_type": "code",
   "execution_count": 12,
   "id": "0bcc9b68",
   "metadata": {},
   "outputs": [
    {
     "data": {
      "text/html": [
       "<div>\n",
       "<style scoped>\n",
       "    .dataframe tbody tr th:only-of-type {\n",
       "        vertical-align: middle;\n",
       "    }\n",
       "\n",
       "    .dataframe tbody tr th {\n",
       "        vertical-align: top;\n",
       "    }\n",
       "\n",
       "    .dataframe thead th {\n",
       "        text-align: right;\n",
       "    }\n",
       "</style>\n",
       "<table border=\"1\" class=\"dataframe\">\n",
       "  <thead>\n",
       "    <tr style=\"text-align: right;\">\n",
       "      <th></th>\n",
       "      <th>Unnamed: 0</th>\n",
       "      <th>title</th>\n",
       "      <th>selftext</th>\n",
       "      <th>subreddit</th>\n",
       "      <th>score</th>\n",
       "      <th>created_utc</th>\n",
       "      <th>name</th>\n",
       "      <th>id</th>\n",
       "      <th>comments</th>\n",
       "    </tr>\n",
       "  </thead>\n",
       "  <tbody>\n",
       "    <tr>\n",
       "      <th>0</th>\n",
       "      <td>0</td>\n",
       "      <td>Hi, could you guys tell me if this is AI gener...</td>\n",
       "      <td>NaN</td>\n",
       "      <td>midjourney</td>\n",
       "      <td>1.0</td>\n",
       "      <td>19c7xex</td>\n",
       "      <td>t3_19c7xex</td>\n",
       "      <td>19c7xex</td>\n",
       "      <td>NaN</td>\n",
       "    </tr>\n",
       "    <tr>\n",
       "      <th>1</th>\n",
       "      <td>1</td>\n",
       "      <td>Painting 5</td>\n",
       "      <td>painting by Ilya repin, Japanese vampire princ...</td>\n",
       "      <td>midjourney</td>\n",
       "      <td>1.0</td>\n",
       "      <td>19c7v3l</td>\n",
       "      <td>t3_19c7v3l</td>\n",
       "      <td>19c7v3l</td>\n",
       "      <td>NaN</td>\n",
       "    </tr>\n",
       "    <tr>\n",
       "      <th>2</th>\n",
       "      <td>2</td>\n",
       "      <td>Painting 4</td>\n",
       "      <td>\\npainting by Ilya repin oil on canvas , Malay...</td>\n",
       "      <td>midjourney</td>\n",
       "      <td>3.0</td>\n",
       "      <td>19c7js0</td>\n",
       "      <td>t3_19c7js0</td>\n",
       "      <td>19c7js0</td>\n",
       "      <td>NaN</td>\n",
       "    </tr>\n",
       "    <tr>\n",
       "      <th>3</th>\n",
       "      <td>3</td>\n",
       "      <td>Painting 3</td>\n",
       "      <td>\\npainting by edward hopper oil on canvas, qin...</td>\n",
       "      <td>midjourney</td>\n",
       "      <td>4.0</td>\n",
       "      <td>19c7j43</td>\n",
       "      <td>t3_19c7j43</td>\n",
       "      <td>19c7j43</td>\n",
       "      <td>NaN</td>\n",
       "    </tr>\n",
       "    <tr>\n",
       "      <th>4</th>\n",
       "      <td>4</td>\n",
       "      <td>BREAKING LEGOS</td>\n",
       "      <td>[DanielGindin.com](https://DanielGindin.com)</td>\n",
       "      <td>midjourney</td>\n",
       "      <td>1.0</td>\n",
       "      <td>19c7fbp</td>\n",
       "      <td>t3_19c7fbp</td>\n",
       "      <td>19c7fbp</td>\n",
       "      <td>NaN</td>\n",
       "    </tr>\n",
       "  </tbody>\n",
       "</table>\n",
       "</div>"
      ],
      "text/plain": [
       "   Unnamed: 0                                              title  \\\n",
       "0           0  Hi, could you guys tell me if this is AI gener...   \n",
       "1           1                                         Painting 5   \n",
       "2           2                                         Painting 4   \n",
       "3           3                                         Painting 3   \n",
       "4           4                                     BREAKING LEGOS   \n",
       "\n",
       "                                            selftext   subreddit  score  \\\n",
       "0                                                NaN  midjourney    1.0   \n",
       "1  painting by Ilya repin, Japanese vampire princ...  midjourney    1.0   \n",
       "2  \\npainting by Ilya repin oil on canvas , Malay...  midjourney    3.0   \n",
       "3  \\npainting by edward hopper oil on canvas, qin...  midjourney    4.0   \n",
       "4       [DanielGindin.com](https://DanielGindin.com)  midjourney    1.0   \n",
       "\n",
       "  created_utc        name       id comments  \n",
       "0     19c7xex  t3_19c7xex  19c7xex      NaN  \n",
       "1     19c7v3l  t3_19c7v3l  19c7v3l      NaN  \n",
       "2     19c7js0  t3_19c7js0  19c7js0      NaN  \n",
       "3     19c7j43  t3_19c7j43  19c7j43      NaN  \n",
       "4     19c7fbp  t3_19c7fbp  19c7fbp      NaN  "
      ]
     },
     "execution_count": 12,
     "metadata": {},
     "output_type": "execute_result"
    }
   ],
   "source": [
    "df_midjourney_21_25.head()"
   ]
  },
  {
   "cell_type": "code",
   "execution_count": 24,
   "id": "dcf3b946",
   "metadata": {},
   "outputs": [
    {
     "data": {
      "text/plain": [
       "2025"
      ]
     },
     "execution_count": 24,
     "metadata": {},
     "output_type": "execute_result"
    }
   ],
   "source": [
    "len(df_midjourney_21_25)"
   ]
  },
  {
   "cell_type": "markdown",
   "id": "26949382",
   "metadata": {},
   "source": [
    "### ChatGPT"
   ]
  },
  {
   "cell_type": "code",
   "execution_count": 13,
   "id": "cd491771",
   "metadata": {},
   "outputs": [
    {
     "data": {
      "text/html": [
       "<div>\n",
       "<style scoped>\n",
       "    .dataframe tbody tr th:only-of-type {\n",
       "        vertical-align: middle;\n",
       "    }\n",
       "\n",
       "    .dataframe tbody tr th {\n",
       "        vertical-align: top;\n",
       "    }\n",
       "\n",
       "    .dataframe thead th {\n",
       "        text-align: right;\n",
       "    }\n",
       "</style>\n",
       "<table border=\"1\" class=\"dataframe\">\n",
       "  <thead>\n",
       "    <tr style=\"text-align: right;\">\n",
       "      <th></th>\n",
       "      <th>Unnamed: 0</th>\n",
       "      <th>title</th>\n",
       "      <th>selftext</th>\n",
       "      <th>subreddit</th>\n",
       "      <th>score</th>\n",
       "      <th>created_utc</th>\n",
       "      <th>name</th>\n",
       "      <th>id</th>\n",
       "      <th>comments</th>\n",
       "    </tr>\n",
       "  </thead>\n",
       "  <tbody>\n",
       "    <tr>\n",
       "      <th>0</th>\n",
       "      <td>0</td>\n",
       "      <td>ChatGPT for work in company that banned ChatGP...</td>\n",
       "      <td>Hi all, am sure many here like myself work for...</td>\n",
       "      <td>ChatGPT</td>\n",
       "      <td>1</td>\n",
       "      <td>19c7niu</td>\n",
       "      <td>t3_19c7niu</td>\n",
       "      <td>19c7niu</td>\n",
       "      <td>**Attention! [Serious] Tag Notice**\\n\\n : Joke...</td>\n",
       "    </tr>\n",
       "    <tr>\n",
       "      <th>1</th>\n",
       "      <td>1</td>\n",
       "      <td>Evolution Series #122: Meerkat</td>\n",
       "      <td>NaN</td>\n",
       "      <td>ChatGPT</td>\n",
       "      <td>1</td>\n",
       "      <td>19c7kv5</td>\n",
       "      <td>t3_19c7kv5</td>\n",
       "      <td>19c7kv5</td>\n",
       "      <td>Hey /u/Parking_Ad5541!\\n\\nIf your post is a sc...</td>\n",
       "    </tr>\n",
       "    <tr>\n",
       "      <th>2</th>\n",
       "      <td>2</td>\n",
       "      <td>ChatGPT is an arrogant rapper</td>\n",
       "      <td>ChatGPT is getting a big head:\\n\\nBehold, I am...</td>\n",
       "      <td>ChatGPT</td>\n",
       "      <td>1</td>\n",
       "      <td>19c76zn</td>\n",
       "      <td>t3_19c76zn</td>\n",
       "      <td>19c76zn</td>\n",
       "      <td>Hey /u/Parking_Ad5541!\\n\\nIf your post is a sc...</td>\n",
       "    </tr>\n",
       "    <tr>\n",
       "      <th>3</th>\n",
       "      <td>3</td>\n",
       "      <td>An Amazing Tool for Writers</td>\n",
       "      <td>I write a daily blog on Bible study topics, an...</td>\n",
       "      <td>ChatGPT</td>\n",
       "      <td>2</td>\n",
       "      <td>19c71l9</td>\n",
       "      <td>t3_19c71l9</td>\n",
       "      <td>19c71l9</td>\n",
       "      <td>Hey /u/bsprad49!\\n\\nIf your post is a screensh...</td>\n",
       "    </tr>\n",
       "    <tr>\n",
       "      <th>4</th>\n",
       "      <td>4</td>\n",
       "      <td>Future Hobbits</td>\n",
       "      <td>NaN</td>\n",
       "      <td>ChatGPT</td>\n",
       "      <td>9</td>\n",
       "      <td>19c6nf5</td>\n",
       "      <td>t3_19c6nf5</td>\n",
       "      <td>19c6nf5</td>\n",
       "      <td>Hey /u/futureformsdance!\\n\\nIf your post is a ...</td>\n",
       "    </tr>\n",
       "  </tbody>\n",
       "</table>\n",
       "</div>"
      ],
      "text/plain": [
       "   Unnamed: 0                                              title  \\\n",
       "0           0  ChatGPT for work in company that banned ChatGP...   \n",
       "1           1                     Evolution Series #122: Meerkat   \n",
       "2           2                      ChatGPT is an arrogant rapper   \n",
       "3           3                        An Amazing Tool for Writers   \n",
       "4           4                                     Future Hobbits   \n",
       "\n",
       "                                            selftext subreddit  score  \\\n",
       "0  Hi all, am sure many here like myself work for...   ChatGPT      1   \n",
       "1                                                NaN   ChatGPT      1   \n",
       "2  ChatGPT is getting a big head:\\n\\nBehold, I am...   ChatGPT      1   \n",
       "3  I write a daily blog on Bible study topics, an...   ChatGPT      2   \n",
       "4                                                NaN   ChatGPT      9   \n",
       "\n",
       "  created_utc        name       id  \\\n",
       "0     19c7niu  t3_19c7niu  19c7niu   \n",
       "1     19c7kv5  t3_19c7kv5  19c7kv5   \n",
       "2     19c76zn  t3_19c76zn  19c76zn   \n",
       "3     19c71l9  t3_19c71l9  19c71l9   \n",
       "4     19c6nf5  t3_19c6nf5  19c6nf5   \n",
       "\n",
       "                                            comments  \n",
       "0  **Attention! [Serious] Tag Notice**\\n\\n : Joke...  \n",
       "1  Hey /u/Parking_Ad5541!\\n\\nIf your post is a sc...  \n",
       "2  Hey /u/Parking_Ad5541!\\n\\nIf your post is a sc...  \n",
       "3  Hey /u/bsprad49!\\n\\nIf your post is a screensh...  \n",
       "4  Hey /u/futureformsdance!\\n\\nIf your post is a ...  "
      ]
     },
     "execution_count": 13,
     "metadata": {},
     "output_type": "execute_result"
    }
   ],
   "source": [
    "df_chatgpt_210124 = pd.read_csv('df_chatgpt_210124_1000.csv')\n",
    "df_chatgpt_210124.head()"
   ]
  },
  {
   "cell_type": "code",
   "execution_count": 14,
   "id": "324bb75c",
   "metadata": {},
   "outputs": [
    {
     "data": {
      "text/html": [
       "<div>\n",
       "<style scoped>\n",
       "    .dataframe tbody tr th:only-of-type {\n",
       "        vertical-align: middle;\n",
       "    }\n",
       "\n",
       "    .dataframe tbody tr th {\n",
       "        vertical-align: top;\n",
       "    }\n",
       "\n",
       "    .dataframe thead th {\n",
       "        text-align: right;\n",
       "    }\n",
       "</style>\n",
       "<table border=\"1\" class=\"dataframe\">\n",
       "  <thead>\n",
       "    <tr style=\"text-align: right;\">\n",
       "      <th></th>\n",
       "      <th>Unnamed: 0</th>\n",
       "      <th>title</th>\n",
       "      <th>selftext</th>\n",
       "      <th>subreddit</th>\n",
       "      <th>created_utc</th>\n",
       "      <th>name</th>\n",
       "    </tr>\n",
       "  </thead>\n",
       "  <tbody>\n",
       "    <tr>\n",
       "      <th>0</th>\n",
       "      <td>0</td>\n",
       "      <td>Mistral 7B from Mistral.AI - FULL WHITEPAPER O...</td>\n",
       "      <td>NaN</td>\n",
       "      <td>ChatGPT</td>\n",
       "      <td>19d2ahp</td>\n",
       "      <td>t3_19d2ahp</td>\n",
       "    </tr>\n",
       "    <tr>\n",
       "      <th>1</th>\n",
       "      <td>1</td>\n",
       "      <td>Pancakes but it gets progressively more toppings</td>\n",
       "      <td>NaN</td>\n",
       "      <td>ChatGPT</td>\n",
       "      <td>19d27l8</td>\n",
       "      <td>t3_19d27l8</td>\n",
       "    </tr>\n",
       "    <tr>\n",
       "      <th>2</th>\n",
       "      <td>2</td>\n",
       "      <td>McDonald's, anyone?</td>\n",
       "      <td>NaN</td>\n",
       "      <td>ChatGPT</td>\n",
       "      <td>19d1zsd</td>\n",
       "      <td>t3_19d1zsd</td>\n",
       "    </tr>\n",
       "    <tr>\n",
       "      <th>3</th>\n",
       "      <td>3</td>\n",
       "      <td>We were playing hangman, shouldnt this game be...</td>\n",
       "      <td>NaN</td>\n",
       "      <td>ChatGPT</td>\n",
       "      <td>19d1vj4</td>\n",
       "      <td>t3_19d1vj4</td>\n",
       "    </tr>\n",
       "    <tr>\n",
       "      <th>4</th>\n",
       "      <td>4</td>\n",
       "      <td>I thought I'd play too</td>\n",
       "      <td>NaN</td>\n",
       "      <td>ChatGPT</td>\n",
       "      <td>19d1se8</td>\n",
       "      <td>t3_19d1se8</td>\n",
       "    </tr>\n",
       "  </tbody>\n",
       "</table>\n",
       "</div>"
      ],
      "text/plain": [
       "   Unnamed: 0                                              title selftext  \\\n",
       "0           0  Mistral 7B from Mistral.AI - FULL WHITEPAPER O...      NaN   \n",
       "1           1   Pancakes but it gets progressively more toppings      NaN   \n",
       "2           2                                McDonald's, anyone?      NaN   \n",
       "3           3  We were playing hangman, shouldnt this game be...      NaN   \n",
       "4           4                             I thought I'd play too      NaN   \n",
       "\n",
       "  subreddit created_utc        name  \n",
       "0   ChatGPT     19d2ahp  t3_19d2ahp  \n",
       "1   ChatGPT     19d27l8  t3_19d27l8  \n",
       "2   ChatGPT     19d1zsd  t3_19d1zsd  \n",
       "3   ChatGPT     19d1vj4  t3_19d1vj4  \n",
       "4   ChatGPT     19d1se8  t3_19d1se8  "
      ]
     },
     "execution_count": 14,
     "metadata": {},
     "output_type": "execute_result"
    }
   ],
   "source": [
    "df_chatgpt_230124 = pd.read_csv('df_chatgpt_240124_1000.csv')\n",
    "df_chatgpt_230124.head()"
   ]
  },
  {
   "cell_type": "code",
   "execution_count": 15,
   "id": "b1811a9f",
   "metadata": {},
   "outputs": [
    {
     "data": {
      "text/html": [
       "<div>\n",
       "<style scoped>\n",
       "    .dataframe tbody tr th:only-of-type {\n",
       "        vertical-align: middle;\n",
       "    }\n",
       "\n",
       "    .dataframe tbody tr th {\n",
       "        vertical-align: top;\n",
       "    }\n",
       "\n",
       "    .dataframe thead th {\n",
       "        text-align: right;\n",
       "    }\n",
       "</style>\n",
       "<table border=\"1\" class=\"dataframe\">\n",
       "  <thead>\n",
       "    <tr style=\"text-align: right;\">\n",
       "      <th></th>\n",
       "      <th>Unnamed: 0</th>\n",
       "      <th>title</th>\n",
       "      <th>selftext</th>\n",
       "      <th>subreddit</th>\n",
       "      <th>created_utc</th>\n",
       "      <th>name</th>\n",
       "    </tr>\n",
       "  </thead>\n",
       "  <tbody>\n",
       "    <tr>\n",
       "      <th>0</th>\n",
       "      <td>0</td>\n",
       "      <td>Mistral 7B from Mistral.AI - FULL WHITEPAPER O...</td>\n",
       "      <td>NaN</td>\n",
       "      <td>ChatGPT</td>\n",
       "      <td>19d2ahp</td>\n",
       "      <td>t3_19d2ahp</td>\n",
       "    </tr>\n",
       "    <tr>\n",
       "      <th>1</th>\n",
       "      <td>1</td>\n",
       "      <td>Pancakes but it gets progressively more toppings</td>\n",
       "      <td>NaN</td>\n",
       "      <td>ChatGPT</td>\n",
       "      <td>19d27l8</td>\n",
       "      <td>t3_19d27l8</td>\n",
       "    </tr>\n",
       "    <tr>\n",
       "      <th>2</th>\n",
       "      <td>2</td>\n",
       "      <td>McDonald's, anyone?</td>\n",
       "      <td>NaN</td>\n",
       "      <td>ChatGPT</td>\n",
       "      <td>19d1zsd</td>\n",
       "      <td>t3_19d1zsd</td>\n",
       "    </tr>\n",
       "    <tr>\n",
       "      <th>3</th>\n",
       "      <td>3</td>\n",
       "      <td>We were playing hangman, shouldnt this game be...</td>\n",
       "      <td>NaN</td>\n",
       "      <td>ChatGPT</td>\n",
       "      <td>19d1vj4</td>\n",
       "      <td>t3_19d1vj4</td>\n",
       "    </tr>\n",
       "    <tr>\n",
       "      <th>4</th>\n",
       "      <td>4</td>\n",
       "      <td>I thought I'd play too</td>\n",
       "      <td>NaN</td>\n",
       "      <td>ChatGPT</td>\n",
       "      <td>19d1se8</td>\n",
       "      <td>t3_19d1se8</td>\n",
       "    </tr>\n",
       "  </tbody>\n",
       "</table>\n",
       "</div>"
      ],
      "text/plain": [
       "   Unnamed: 0                                              title selftext  \\\n",
       "0           0  Mistral 7B from Mistral.AI - FULL WHITEPAPER O...      NaN   \n",
       "1           1   Pancakes but it gets progressively more toppings      NaN   \n",
       "2           2                                McDonald's, anyone?      NaN   \n",
       "3           3  We were playing hangman, shouldnt this game be...      NaN   \n",
       "4           4                             I thought I'd play too      NaN   \n",
       "\n",
       "  subreddit created_utc        name  \n",
       "0   ChatGPT     19d2ahp  t3_19d2ahp  \n",
       "1   ChatGPT     19d27l8  t3_19d27l8  \n",
       "2   ChatGPT     19d1zsd  t3_19d1zsd  \n",
       "3   ChatGPT     19d1vj4  t3_19d1vj4  \n",
       "4   ChatGPT     19d1se8  t3_19d1se8  "
      ]
     },
     "execution_count": 15,
     "metadata": {},
     "output_type": "execute_result"
    }
   ],
   "source": [
    "df_chatgpt_240124 = pd.read_csv('df_chatgpt_240124_1000.csv')\n",
    "df_chatgpt_240124.head()"
   ]
  },
  {
   "cell_type": "code",
   "execution_count": 16,
   "id": "71fb69fb",
   "metadata": {},
   "outputs": [
    {
     "data": {
      "text/html": [
       "<div>\n",
       "<style scoped>\n",
       "    .dataframe tbody tr th:only-of-type {\n",
       "        vertical-align: middle;\n",
       "    }\n",
       "\n",
       "    .dataframe tbody tr th {\n",
       "        vertical-align: top;\n",
       "    }\n",
       "\n",
       "    .dataframe thead th {\n",
       "        text-align: right;\n",
       "    }\n",
       "</style>\n",
       "<table border=\"1\" class=\"dataframe\">\n",
       "  <thead>\n",
       "    <tr style=\"text-align: right;\">\n",
       "      <th></th>\n",
       "      <th>Unnamed: 0</th>\n",
       "      <th>title</th>\n",
       "      <th>selftext</th>\n",
       "      <th>subreddit</th>\n",
       "      <th>created_utc</th>\n",
       "      <th>name</th>\n",
       "    </tr>\n",
       "  </thead>\n",
       "  <tbody>\n",
       "    <tr>\n",
       "      <th>0</th>\n",
       "      <td>0</td>\n",
       "      <td>Explicitly stating I want to use gpt-4-preview...</td>\n",
       "      <td>Hi!\\n\\nCould this be due to shortage of tokens...</td>\n",
       "      <td>ChatGPT</td>\n",
       "      <td>19di61t</td>\n",
       "      <td>t3_19di61t</td>\n",
       "    </tr>\n",
       "    <tr>\n",
       "      <th>1</th>\n",
       "      <td>1</td>\n",
       "      <td>A.I program that can answer questions based on...</td>\n",
       "      <td>I am looking for an A.I program / service that...</td>\n",
       "      <td>ChatGPT</td>\n",
       "      <td>19di269</td>\n",
       "      <td>t3_19di269</td>\n",
       "    </tr>\n",
       "    <tr>\n",
       "      <th>2</th>\n",
       "      <td>2</td>\n",
       "      <td>$20 may be too much for third-world countries</td>\n",
       "      <td>I was expecting a lower price for third-world ...</td>\n",
       "      <td>ChatGPT</td>\n",
       "      <td>19dhra0</td>\n",
       "      <td>t3_19dhra0</td>\n",
       "    </tr>\n",
       "    <tr>\n",
       "      <th>3</th>\n",
       "      <td>3</td>\n",
       "      <td>ChatGPT wants to wish y'all a goodnight and fo...</td>\n",
       "      <td>NaN</td>\n",
       "      <td>ChatGPT</td>\n",
       "      <td>19dhqe7</td>\n",
       "      <td>t3_19dhqe7</td>\n",
       "    </tr>\n",
       "    <tr>\n",
       "      <th>4</th>\n",
       "      <td>4</td>\n",
       "      <td>How to create the G1 Tournament in AEW Fight F...</td>\n",
       "      <td>NaN</td>\n",
       "      <td>ChatGPT</td>\n",
       "      <td>19dhose</td>\n",
       "      <td>t3_19dhose</td>\n",
       "    </tr>\n",
       "  </tbody>\n",
       "</table>\n",
       "</div>"
      ],
      "text/plain": [
       "   Unnamed: 0                                              title  \\\n",
       "0           0  Explicitly stating I want to use gpt-4-preview...   \n",
       "1           1  A.I program that can answer questions based on...   \n",
       "2           2      $20 may be too much for third-world countries   \n",
       "3           3  ChatGPT wants to wish y'all a goodnight and fo...   \n",
       "4           4  How to create the G1 Tournament in AEW Fight F...   \n",
       "\n",
       "                                            selftext subreddit created_utc  \\\n",
       "0  Hi!\\n\\nCould this be due to shortage of tokens...   ChatGPT     19di61t   \n",
       "1  I am looking for an A.I program / service that...   ChatGPT     19di269   \n",
       "2  I was expecting a lower price for third-world ...   ChatGPT     19dhra0   \n",
       "3                                                NaN   ChatGPT     19dhqe7   \n",
       "4                                                NaN   ChatGPT     19dhose   \n",
       "\n",
       "         name  \n",
       "0  t3_19di61t  \n",
       "1  t3_19di269  \n",
       "2  t3_19dhra0  \n",
       "3  t3_19dhqe7  \n",
       "4  t3_19dhose  "
      ]
     },
     "execution_count": 16,
     "metadata": {},
     "output_type": "execute_result"
    }
   ],
   "source": [
    "df_chatgpt_250124 = pd.read_csv('df_chatgpt_250124_1000.csv')\n",
    "df_chatgpt_250124.head()"
   ]
  },
  {
   "cell_type": "code",
   "execution_count": 28,
   "id": "18b5ae1b",
   "metadata": {},
   "outputs": [
    {
     "data": {
      "text/html": [
       "<div>\n",
       "<style scoped>\n",
       "    .dataframe tbody tr th:only-of-type {\n",
       "        vertical-align: middle;\n",
       "    }\n",
       "\n",
       "    .dataframe tbody tr th {\n",
       "        vertical-align: top;\n",
       "    }\n",
       "\n",
       "    .dataframe thead th {\n",
       "        text-align: right;\n",
       "    }\n",
       "</style>\n",
       "<table border=\"1\" class=\"dataframe\">\n",
       "  <thead>\n",
       "    <tr style=\"text-align: right;\">\n",
       "      <th></th>\n",
       "      <th>Unnamed: 0</th>\n",
       "      <th>title</th>\n",
       "      <th>selftext</th>\n",
       "      <th>subreddit</th>\n",
       "      <th>created_utc</th>\n",
       "      <th>name</th>\n",
       "    </tr>\n",
       "  </thead>\n",
       "  <tbody>\n",
       "    <tr>\n",
       "      <th>0</th>\n",
       "      <td>0</td>\n",
       "      <td>Protect your GPT's Instructions</td>\n",
       "      <td>I actually noticed that the huge inefficiency ...</td>\n",
       "      <td>ChatGPT</td>\n",
       "      <td>19dx8ls</td>\n",
       "      <td>t3_19dx8ls</td>\n",
       "    </tr>\n",
       "    <tr>\n",
       "      <th>1</th>\n",
       "      <td>1</td>\n",
       "      <td>Gpt creation error</td>\n",
       "      <td>Is anybody having trouble with the helper not ...</td>\n",
       "      <td>ChatGPT</td>\n",
       "      <td>19dx5vn</td>\n",
       "      <td>t3_19dx5vn</td>\n",
       "    </tr>\n",
       "    <tr>\n",
       "      <th>2</th>\n",
       "      <td>2</td>\n",
       "      <td>Rave at the old age retirement home, that keep...</td>\n",
       "      <td>NaN</td>\n",
       "      <td>ChatGPT</td>\n",
       "      <td>19dx36u</td>\n",
       "      <td>t3_19dx36u</td>\n",
       "    </tr>\n",
       "    <tr>\n",
       "      <th>3</th>\n",
       "      <td>3</td>\n",
       "      <td>I think Instacart is using DALL•E for product ...</td>\n",
       "      <td>The screenshots are from Instacart + Safeway- ...</td>\n",
       "      <td>ChatGPT</td>\n",
       "      <td>19dw3j1</td>\n",
       "      <td>t3_19dw3j1</td>\n",
       "    </tr>\n",
       "    <tr>\n",
       "      <th>4</th>\n",
       "      <td>4</td>\n",
       "      <td>The initial ask was \"What is The Epoch Times n...</td>\n",
       "      <td>NaN</td>\n",
       "      <td>ChatGPT</td>\n",
       "      <td>19dw2jo</td>\n",
       "      <td>t3_19dw2jo</td>\n",
       "    </tr>\n",
       "  </tbody>\n",
       "</table>\n",
       "</div>"
      ],
      "text/plain": [
       "   Unnamed: 0                                              title  \\\n",
       "0           0                    Protect your GPT's Instructions   \n",
       "1           1                                 Gpt creation error   \n",
       "2           2  Rave at the old age retirement home, that keep...   \n",
       "3           3  I think Instacart is using DALL•E for product ...   \n",
       "4           4  The initial ask was \"What is The Epoch Times n...   \n",
       "\n",
       "                                            selftext subreddit created_utc  \\\n",
       "0  I actually noticed that the huge inefficiency ...   ChatGPT     19dx8ls   \n",
       "1  Is anybody having trouble with the helper not ...   ChatGPT     19dx5vn   \n",
       "2                                                NaN   ChatGPT     19dx36u   \n",
       "3  The screenshots are from Instacart + Safeway- ...   ChatGPT     19dw3j1   \n",
       "4                                                NaN   ChatGPT     19dw2jo   \n",
       "\n",
       "         name  \n",
       "0  t3_19dx8ls  \n",
       "1  t3_19dx5vn  \n",
       "2  t3_19dx36u  \n",
       "3  t3_19dw3j1  \n",
       "4  t3_19dw2jo  "
      ]
     },
     "execution_count": 28,
     "metadata": {},
     "output_type": "execute_result"
    }
   ],
   "source": [
    "df_chatgpt_260124 = pd.read_csv('df_chatgpt_260124_1000.csv')\n",
    "df_chatgpt_260124.head()"
   ]
  },
  {
   "cell_type": "code",
   "execution_count": 29,
   "id": "cdc8e011",
   "metadata": {},
   "outputs": [
    {
     "data": {
      "text/plain": [
       "100"
      ]
     },
     "execution_count": 29,
     "metadata": {},
     "output_type": "execute_result"
    }
   ],
   "source": [
    "len(df_chatgpt_260124)"
   ]
  },
  {
   "cell_type": "code",
   "execution_count": 17,
   "id": "658a19da",
   "metadata": {},
   "outputs": [],
   "source": [
    "df_chatgpt_21_23 = pd.concat([df_chatgpt_210124,df_chatgpt_230124])"
   ]
  },
  {
   "cell_type": "code",
   "execution_count": 18,
   "id": "756fb1fb",
   "metadata": {},
   "outputs": [],
   "source": [
    "df_chatgpt_21_24 = pd.concat([df_chatgpt_21_23,df_chatgpt_240124])"
   ]
  },
  {
   "cell_type": "code",
   "execution_count": 19,
   "id": "f7dd571f",
   "metadata": {},
   "outputs": [],
   "source": [
    "df_chatgpt_21_25 = pd.concat([df_chatgpt_21_24,df_chatgpt_250124])"
   ]
  },
  {
   "cell_type": "code",
   "execution_count": 30,
   "id": "f0983e60",
   "metadata": {},
   "outputs": [],
   "source": [
    "df_chatgpt_21_26 = pd.concat([df_chatgpt_21_25,df_chatgpt_260124])"
   ]
  },
  {
   "cell_type": "code",
   "execution_count": 41,
   "id": "028ef544",
   "metadata": {},
   "outputs": [],
   "source": [
    "df_chatgpt_21_27 = pd.concat([df_chatgpt_21_26,df_chatgpt_270124])"
   ]
  },
  {
   "cell_type": "code",
   "execution_count": 42,
   "id": "fe8d223b",
   "metadata": {},
   "outputs": [
    {
     "data": {
      "text/plain": [
       "0"
      ]
     },
     "execution_count": 42,
     "metadata": {},
     "output_type": "execute_result"
    }
   ],
   "source": [
    "df_chatgpt_21_27.duplicated().sum()"
   ]
  },
  {
   "cell_type": "code",
   "execution_count": 43,
   "id": "3c9e6624",
   "metadata": {},
   "outputs": [],
   "source": [
    "df_chatgpt_21_27.drop_duplicates(inplace=True)"
   ]
  },
  {
   "cell_type": "code",
   "execution_count": 44,
   "id": "47f7922e",
   "metadata": {},
   "outputs": [
    {
     "data": {
      "text/html": [
       "<div>\n",
       "<style scoped>\n",
       "    .dataframe tbody tr th:only-of-type {\n",
       "        vertical-align: middle;\n",
       "    }\n",
       "\n",
       "    .dataframe tbody tr th {\n",
       "        vertical-align: top;\n",
       "    }\n",
       "\n",
       "    .dataframe thead th {\n",
       "        text-align: right;\n",
       "    }\n",
       "</style>\n",
       "<table border=\"1\" class=\"dataframe\">\n",
       "  <thead>\n",
       "    <tr style=\"text-align: right;\">\n",
       "      <th></th>\n",
       "      <th>Unnamed: 0</th>\n",
       "      <th>title</th>\n",
       "      <th>selftext</th>\n",
       "      <th>subreddit</th>\n",
       "      <th>score</th>\n",
       "      <th>created_utc</th>\n",
       "      <th>name</th>\n",
       "      <th>id</th>\n",
       "      <th>comments</th>\n",
       "    </tr>\n",
       "  </thead>\n",
       "  <tbody>\n",
       "    <tr>\n",
       "      <th>0</th>\n",
       "      <td>0.0</td>\n",
       "      <td>ChatGPT for work in company that banned ChatGP...</td>\n",
       "      <td>Hi all, am sure many here like myself work for...</td>\n",
       "      <td>ChatGPT</td>\n",
       "      <td>1.0</td>\n",
       "      <td>19c7niu</td>\n",
       "      <td>t3_19c7niu</td>\n",
       "      <td>19c7niu</td>\n",
       "      <td>**Attention! [Serious] Tag Notice**\\n\\n : Joke...</td>\n",
       "    </tr>\n",
       "    <tr>\n",
       "      <th>1</th>\n",
       "      <td>1.0</td>\n",
       "      <td>Evolution Series #122: Meerkat</td>\n",
       "      <td>NaN</td>\n",
       "      <td>ChatGPT</td>\n",
       "      <td>1.0</td>\n",
       "      <td>19c7kv5</td>\n",
       "      <td>t3_19c7kv5</td>\n",
       "      <td>19c7kv5</td>\n",
       "      <td>Hey /u/Parking_Ad5541!\\n\\nIf your post is a sc...</td>\n",
       "    </tr>\n",
       "    <tr>\n",
       "      <th>2</th>\n",
       "      <td>2.0</td>\n",
       "      <td>ChatGPT is an arrogant rapper</td>\n",
       "      <td>ChatGPT is getting a big head:\\n\\nBehold, I am...</td>\n",
       "      <td>ChatGPT</td>\n",
       "      <td>1.0</td>\n",
       "      <td>19c76zn</td>\n",
       "      <td>t3_19c76zn</td>\n",
       "      <td>19c76zn</td>\n",
       "      <td>Hey /u/Parking_Ad5541!\\n\\nIf your post is a sc...</td>\n",
       "    </tr>\n",
       "    <tr>\n",
       "      <th>3</th>\n",
       "      <td>3.0</td>\n",
       "      <td>An Amazing Tool for Writers</td>\n",
       "      <td>I write a daily blog on Bible study topics, an...</td>\n",
       "      <td>ChatGPT</td>\n",
       "      <td>2.0</td>\n",
       "      <td>19c71l9</td>\n",
       "      <td>t3_19c71l9</td>\n",
       "      <td>19c71l9</td>\n",
       "      <td>Hey /u/bsprad49!\\n\\nIf your post is a screensh...</td>\n",
       "    </tr>\n",
       "    <tr>\n",
       "      <th>4</th>\n",
       "      <td>4.0</td>\n",
       "      <td>Future Hobbits</td>\n",
       "      <td>NaN</td>\n",
       "      <td>ChatGPT</td>\n",
       "      <td>9.0</td>\n",
       "      <td>19c6nf5</td>\n",
       "      <td>t3_19c6nf5</td>\n",
       "      <td>19c6nf5</td>\n",
       "      <td>Hey /u/futureformsdance!\\n\\nIf your post is a ...</td>\n",
       "    </tr>\n",
       "  </tbody>\n",
       "</table>\n",
       "</div>"
      ],
      "text/plain": [
       "   Unnamed: 0                                              title  \\\n",
       "0         0.0  ChatGPT for work in company that banned ChatGP...   \n",
       "1         1.0                     Evolution Series #122: Meerkat   \n",
       "2         2.0                      ChatGPT is an arrogant rapper   \n",
       "3         3.0                        An Amazing Tool for Writers   \n",
       "4         4.0                                     Future Hobbits   \n",
       "\n",
       "                                            selftext subreddit  score  \\\n",
       "0  Hi all, am sure many here like myself work for...   ChatGPT    1.0   \n",
       "1                                                NaN   ChatGPT    1.0   \n",
       "2  ChatGPT is getting a big head:\\n\\nBehold, I am...   ChatGPT    1.0   \n",
       "3  I write a daily blog on Bible study topics, an...   ChatGPT    2.0   \n",
       "4                                                NaN   ChatGPT    9.0   \n",
       "\n",
       "  created_utc        name       id  \\\n",
       "0     19c7niu  t3_19c7niu  19c7niu   \n",
       "1     19c7kv5  t3_19c7kv5  19c7kv5   \n",
       "2     19c76zn  t3_19c76zn  19c76zn   \n",
       "3     19c71l9  t3_19c71l9  19c71l9   \n",
       "4     19c6nf5  t3_19c6nf5  19c6nf5   \n",
       "\n",
       "                                            comments  \n",
       "0  **Attention! [Serious] Tag Notice**\\n\\n : Joke...  \n",
       "1  Hey /u/Parking_Ad5541!\\n\\nIf your post is a sc...  \n",
       "2  Hey /u/Parking_Ad5541!\\n\\nIf your post is a sc...  \n",
       "3  Hey /u/bsprad49!\\n\\nIf your post is a screensh...  \n",
       "4  Hey /u/futureformsdance!\\n\\nIf your post is a ...  "
      ]
     },
     "execution_count": 44,
     "metadata": {},
     "output_type": "execute_result"
    }
   ],
   "source": [
    "df_chatgpt_21_27.head()"
   ]
  },
  {
   "cell_type": "code",
   "execution_count": 45,
   "id": "9c81fc56",
   "metadata": {},
   "outputs": [
    {
     "data": {
      "text/plain": [
       "1325"
      ]
     },
     "execution_count": 45,
     "metadata": {},
     "output_type": "execute_result"
    }
   ],
   "source": [
    "len(df_chatgpt_21_27)"
   ]
  },
  {
   "cell_type": "code",
   "execution_count": 47,
   "id": "e308c6aa",
   "metadata": {},
   "outputs": [],
   "source": [
    "df_chatgpt_21_27.to_csv('df_chatgpt_total.csv')"
   ]
  },
  {
   "cell_type": "code",
   "execution_count": 48,
   "id": "ff19d655",
   "metadata": {},
   "outputs": [],
   "source": [
    "df_midjourney_21_25.to_csv('df_midjourney_total.csv')"
   ]
  }
 ],
 "metadata": {
  "kernelspec": {
   "display_name": "Python 3 (ipykernel)",
   "language": "python",
   "name": "python3"
  },
  "language_info": {
   "codemirror_mode": {
    "name": "ipython",
    "version": 3
   },
   "file_extension": ".py",
   "mimetype": "text/x-python",
   "name": "python",
   "nbconvert_exporter": "python",
   "pygments_lexer": "ipython3",
   "version": "3.9.13"
  }
 },
 "nbformat": 4,
 "nbformat_minor": 5
}
